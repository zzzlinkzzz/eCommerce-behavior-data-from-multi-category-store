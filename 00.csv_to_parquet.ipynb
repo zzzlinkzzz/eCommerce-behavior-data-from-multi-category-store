{
 "cells": [
  {
   "cell_type": "code",
   "execution_count": 1,
   "id": "d8ce7fb5",
   "metadata": {},
   "outputs": [
    {
     "name": "stdout",
     "output_type": "stream",
     "text": [
      "Welcome to\n",
      "      ____              __\n",
      "     / __/__  ___ _____/ /__\n",
      "    _\\ \\/ _ \\/ _ `/ __/  '_/\n",
      "   /__ / .__/\\_,_/_/ /_/\\_\\   version 3.2.1\n",
      "      /_/\n",
      "\n",
      "Using Python version 3.9.7 (default, Sep 16 2021 13:09:58)\n",
      "Spark context Web UI available at http://172.168.10.103:4040\n",
      "Spark context available as 'sc' (master = local[*], app id = local-1647939746060).\n",
      "SparkSession available as 'spark'.\n"
     ]
    }
   ],
   "source": [
    "from pyspark.sql import functions as F\n",
    "from pyspark.sql import SparkSession\n",
    "    \n",
    "import warnings\n",
    "warnings.filterwarnings(\"ignore\")\n",
    "\n",
    "import os\n",
    "exec(open(os.path.join(os.environ[\"SPARK_HOME\"], 'python/pyspark/shell.py')).read())"
   ]
  },
  {
   "cell_type": "code",
   "execution_count": 2,
   "id": "70043e69",
   "metadata": {},
   "outputs": [
    {
     "data": {
      "text/html": [
       "\n",
       "        <div>\n",
       "            <p><b>SparkContext</b></p>\n",
       "\n",
       "            <p><a href=\"http://172.168.10.103:4040\">Spark UI</a></p>\n",
       "\n",
       "            <dl>\n",
       "              <dt>Version</dt>\n",
       "                <dd><code>v3.2.1</code></dd>\n",
       "              <dt>Master</dt>\n",
       "                <dd><code>local[*]</code></dd>\n",
       "              <dt>AppName</dt>\n",
       "                <dd><code>PySparkShell</code></dd>\n",
       "            </dl>\n",
       "        </div>\n",
       "        "
      ],
      "text/plain": [
       "<SparkContext master=local[*] appName=PySparkShell>"
      ]
     },
     "execution_count": 2,
     "metadata": {},
     "output_type": "execute_result"
    }
   ],
   "source": [
    "sc"
   ]
  },
  {
   "cell_type": "code",
   "execution_count": 2,
   "id": "60fd0503",
   "metadata": {},
   "outputs": [
    {
     "name": "stderr",
     "output_type": "stream",
     "text": [
      "[Stage 2:======================================================>  (65 + 3) / 68]\r"
     ]
    },
    {
     "name": "stdout",
     "output_type": "stream",
     "text": [
      "(67501979, 9)\n"
     ]
    },
    {
     "name": "stderr",
     "output_type": "stream",
     "text": [
      "\r",
      "                                                                                \r"
     ]
    }
   ],
   "source": [
    "df = spark.read.csv('./dataset/2019-Nov.csv', header=True, inferSchema=True)\n",
    "# oct_data = spark.read.csv('./dataset/2019-Oct.csv', header=True, inferSchema=True)\n",
    "# df=nov_data.unionAll(oct_data)\n",
    "print((df.count(), len(df.columns)))"
   ]
  },
  {
   "cell_type": "code",
   "execution_count": 3,
   "id": "9d49d895",
   "metadata": {},
   "outputs": [
    {
     "name": "stdout",
     "output_type": "stream",
     "text": [
      "-RECORD 0---------------------------------------------\n",
      " event_time    | 2019-11-01 00:00:00 UTC              \n",
      " event_type    | view                                 \n",
      " product_id    | 1003461                              \n",
      " category_id   | 2053013555631882655                  \n",
      " category_code | electronics.smartphone               \n",
      " brand         | xiaomi                               \n",
      " price         | 489.07                               \n",
      " user_id       | 520088904                            \n",
      " user_session  | 4d3b30da-a5e4-49df-b1a8-ba5943f1dd33 \n",
      "only showing top 1 row\n",
      "\n"
     ]
    }
   ],
   "source": [
    "df.show(1, vertical = True, truncate = False)"
   ]
  },
  {
   "cell_type": "code",
   "execution_count": 4,
   "id": "7828e387",
   "metadata": {},
   "outputs": [
    {
     "name": "stdout",
     "output_type": "stream",
     "text": [
      "-RECORD 0---------------------------------------------\n",
      " event_time    | 2019-11-01 00:00:00                  \n",
      " event_type    | view                                 \n",
      " product_id    | 1003461                              \n",
      " category_id   | 2053013555631882655                  \n",
      " category_code | electronics.smartphone               \n",
      " brand         | xiaomi                               \n",
      " price         | 489.07                               \n",
      " user_id       | 520088904                            \n",
      " user_session  | 4d3b30da-a5e4-49df-b1a8-ba5943f1dd33 \n",
      "only showing top 1 row\n",
      "\n"
     ]
    }
   ],
   "source": [
    "dfs = df.withColumn('event_time',F.to_timestamp(F.regexp_replace(F.col('event_time'),' UTC','')))\n",
    "dfs.show(1,vertical = True, truncate = False)"
   ]
  },
  {
   "cell_type": "code",
   "execution_count": 5,
   "id": "49e5785f",
   "metadata": {
    "scrolled": true
   },
   "outputs": [
    {
     "data": {
      "text/plain": [
       "[('event_time', 'timestamp'),\n",
       " ('event_type', 'string'),\n",
       " ('product_id', 'int'),\n",
       " ('category_id', 'bigint'),\n",
       " ('category_code', 'string'),\n",
       " ('brand', 'string'),\n",
       " ('price', 'double'),\n",
       " ('user_id', 'int'),\n",
       " ('user_session', 'string')]"
      ]
     },
     "execution_count": 5,
     "metadata": {},
     "output_type": "execute_result"
    }
   ],
   "source": [
    "dfs.dtypes"
   ]
  },
  {
   "cell_type": "code",
   "execution_count": null,
   "id": "02ed6197",
   "metadata": {},
   "outputs": [],
   "source": [
    "dfs.write.mode('overwrite').parquet(\"./dataset/dataset.parquet\") #.repartition(1)"
   ]
  }
 ],
 "metadata": {
  "kernelspec": {
   "display_name": "Python 3 (ipykernel)",
   "language": "python",
   "name": "python3"
  },
  "language_info": {
   "codemirror_mode": {
    "name": "ipython",
    "version": 3
   },
   "file_extension": ".py",
   "mimetype": "text/x-python",
   "name": "python",
   "nbconvert_exporter": "python",
   "pygments_lexer": "ipython3",
   "version": "3.9.7"
  }
 },
 "nbformat": 4,
 "nbformat_minor": 5
}
